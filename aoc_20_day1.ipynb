{
 "cells": [
  {
   "cell_type": "code",
   "execution_count": 5,
   "metadata": {},
   "outputs": [
    {
     "data": {
      "text/plain": [
       "\u001b[32mimport \u001b[39m\u001b[36mscala.io.Source\n",
       "\u001b[39m\r\n",
       "\u001b[32mimport \u001b[39m\u001b[36mscala.util.Using\u001b[39m"
      ]
     },
     "execution_count": 5,
     "metadata": {},
     "output_type": "execute_result"
    }
   ],
   "source": [
    "import scala.io.Source\n",
    "import scala.util.Using"
   ]
  },
  {
   "cell_type": "code",
   "execution_count": 27,
   "metadata": {},
   "outputs": [
    {
     "name": "stdout",
     "output_type": "stream",
     "text": [
      "1753\n"
     ]
    },
    {
     "data": {
      "text/plain": [
       "\u001b[36mfilename\u001b[39m: \u001b[32mString\u001b[39m = \u001b[32m\"input.txt\"\u001b[39m\r\n",
       "\u001b[36mstringList\u001b[39m: \u001b[32mList\u001b[39m[\u001b[32mString\u001b[39m] = \u001b[33mList\u001b[39m(\n",
       "  \u001b[32m\"1753\"\u001b[39m,\n",
       "  \u001b[32m\"1858\"\u001b[39m,\n",
       "  \u001b[32m\"1860\"\u001b[39m,\n",
       "  \u001b[32m\"1978\"\u001b[39m,\n",
       "  \u001b[32m\"1758\"\u001b[39m,\n",
       "  \u001b[32m\"1847\"\u001b[39m,\n",
       "  \u001b[32m\"2010\"\u001b[39m,\n",
       "  \u001b[32m\"1679\"\u001b[39m,\n",
       "  \u001b[32m\"1222\"\u001b[39m,\n",
       "  \u001b[32m\"1723\"\u001b[39m,\n",
       "  \u001b[32m\"1592\"\u001b[39m,\n",
       "  \u001b[32m\"1992\"\u001b[39m,\n",
       "  \u001b[32m\"1865\"\u001b[39m,\n",
       "  \u001b[32m\"1635\"\u001b[39m,\n",
       "  \u001b[32m\"1692\"\u001b[39m,\n",
       "  \u001b[32m\"1653\"\u001b[39m,\n",
       "  \u001b[32m\"1485\"\u001b[39m,\n",
       "  \u001b[32m\"848\"\u001b[39m,\n",
       "  \u001b[32m\"1301\"\u001b[39m,\n",
       "  \u001b[32m\"1818\"\u001b[39m,\n",
       "  \u001b[32m\"1872\"\u001b[39m,\n",
       "  \u001b[32m\"1883\"\u001b[39m,\n",
       "  \u001b[32m\"1464\"\u001b[39m,\n",
       "  \u001b[32m\"2002\"\u001b[39m,\n",
       "  \u001b[32m\"1736\"\u001b[39m,\n",
       "  \u001b[32m\"1821\"\u001b[39m,\n",
       "  \u001b[32m\"1851\"\u001b[39m,\n",
       "  \u001b[32m\"1299\"\u001b[39m,\n",
       "  \u001b[32m\"1627\"\u001b[39m,\n",
       "  \u001b[32m\"1698\"\u001b[39m,\n",
       "  \u001b[32m\"1713\"\u001b[39m,\n",
       "  \u001b[32m\"1676\"\u001b[39m,\n",
       "  \u001b[32m\"1673\"\u001b[39m,\n",
       "  \u001b[32m\"1448\"\u001b[39m,\n",
       "  \u001b[32m\"1939\"\u001b[39m,\n",
       "  \u001b[32m\"1506\"\u001b[39m,\n",
       "  \u001b[32m\"1896\"\u001b[39m,\n",
       "  \u001b[32m\"1710\"\u001b[39m,\n",
       "...\r\n",
       "\u001b[36mnums\u001b[39m: \u001b[32mList\u001b[39m[\u001b[32mInt\u001b[39m] = \u001b[33mList\u001b[39m(\n",
       "  \u001b[32m1753\u001b[39m,\n",
       "  \u001b[32m1858\u001b[39m,\n",
       "  \u001b[32m1860\u001b[39m,\n",
       "  \u001b[32m1978\u001b[39m,\n",
       "  \u001b[32m1758\u001b[39m,\n",
       "  \u001b[32m1847\u001b[39m,\n",
       "  \u001b[32m2010\u001b[39m,\n",
       "  \u001b[32m1679\u001b[39m,\n",
       "  \u001b[32m1222\u001b[39m,\n",
       "  \u001b[32m1723\u001b[39m,\n",
       "  \u001b[32m1592\u001b[39m,\n",
       "  \u001b[32m1992\u001b[39m,\n",
       "  \u001b[32m1865\u001b[39m,\n",
       "  \u001b[32m1635\u001b[39m,\n",
       "  \u001b[32m1692\u001b[39m,\n",
       "  \u001b[32m1653\u001b[39m,\n",
       "  \u001b[32m1485\u001b[39m,\n",
       "  \u001b[32m848\u001b[39m,\n",
       "  \u001b[32m1301\u001b[39m,\n",
       "  \u001b[32m1818\u001b[39m,\n",
       "  \u001b[32m1872\u001b[39m,\n",
       "  \u001b[32m1883\u001b[39m,\n",
       "  \u001b[32m1464\u001b[39m,\n",
       "  \u001b[32m2002\u001b[39m,\n",
       "  \u001b[32m1736\u001b[39m,\n",
       "  \u001b[32m1821\u001b[39m,\n",
       "  \u001b[32m1851\u001b[39m,\n",
       "  \u001b[32m1299\u001b[39m,\n",
       "  \u001b[32m1627\u001b[39m,\n",
       "  \u001b[32m1698\u001b[39m,\n",
       "  \u001b[32m1713\u001b[39m,\n",
       "  \u001b[32m1676\u001b[39m,\n",
       "  \u001b[32m1673\u001b[39m,\n",
       "  \u001b[32m1448\u001b[39m,\n",
       "  \u001b[32m1939\u001b[39m,\n",
       "  \u001b[32m1506\u001b[39m,\n",
       "  \u001b[32m1896\u001b[39m,\n",
       "  \u001b[32m1710\u001b[39m,\n",
       "..."
      ]
     },
     "execution_count": 27,
     "metadata": {},
     "output_type": "execute_result"
    }
   ],
   "source": [
    "val filename = \"input.txt\"\n",
    "val stringList = Source.fromFile(filename).getLines.toList\n",
    "\n",
    "val nums: List[Int] = stringList.map(_.toInt)\n",
    "\n",
    "println(nums.head)"
   ]
  },
  {
   "cell_type": "code",
   "execution_count": 28,
   "metadata": {},
   "outputs": [
    {
     "name": "stdout",
     "output_type": "stream",
     "text": [
      "result is 744475\n"
     ]
    }
   ],
   "source": [
    "for(pair <- nums.combinations(2).toList){\n",
    "    if (pair(0) + pair(1) == 2020) {\n",
    "        println(\"result is \" + (pair(0) * pair(1)))\n",
    "    }\n",
    "}"
   ]
  },
  {
   "cell_type": "markdown",
   "metadata": {},
   "source": [
    "## Part 2"
   ]
  },
  {
   "cell_type": "code",
   "execution_count": 30,
   "metadata": {},
   "outputs": [
    {
     "name": "stdout",
     "output_type": "stream",
     "text": [
      "result is 70276940\n"
     ]
    },
    {
     "data": {
      "text/plain": [
       "\u001b[36mfilename\u001b[39m: \u001b[32mString\u001b[39m = \u001b[32m\"input.txt\"\u001b[39m\r\n",
       "\u001b[36mstringList\u001b[39m: \u001b[32mList\u001b[39m[\u001b[32mString\u001b[39m] = \u001b[33mList\u001b[39m(\n",
       "  \u001b[32m\"1753\"\u001b[39m,\n",
       "  \u001b[32m\"1858\"\u001b[39m,\n",
       "  \u001b[32m\"1860\"\u001b[39m,\n",
       "  \u001b[32m\"1978\"\u001b[39m,\n",
       "  \u001b[32m\"1758\"\u001b[39m,\n",
       "  \u001b[32m\"1847\"\u001b[39m,\n",
       "  \u001b[32m\"2010\"\u001b[39m,\n",
       "  \u001b[32m\"1679\"\u001b[39m,\n",
       "  \u001b[32m\"1222\"\u001b[39m,\n",
       "  \u001b[32m\"1723\"\u001b[39m,\n",
       "  \u001b[32m\"1592\"\u001b[39m,\n",
       "  \u001b[32m\"1992\"\u001b[39m,\n",
       "  \u001b[32m\"1865\"\u001b[39m,\n",
       "  \u001b[32m\"1635\"\u001b[39m,\n",
       "  \u001b[32m\"1692\"\u001b[39m,\n",
       "  \u001b[32m\"1653\"\u001b[39m,\n",
       "  \u001b[32m\"1485\"\u001b[39m,\n",
       "  \u001b[32m\"848\"\u001b[39m,\n",
       "  \u001b[32m\"1301\"\u001b[39m,\n",
       "  \u001b[32m\"1818\"\u001b[39m,\n",
       "  \u001b[32m\"1872\"\u001b[39m,\n",
       "  \u001b[32m\"1883\"\u001b[39m,\n",
       "  \u001b[32m\"1464\"\u001b[39m,\n",
       "  \u001b[32m\"2002\"\u001b[39m,\n",
       "  \u001b[32m\"1736\"\u001b[39m,\n",
       "  \u001b[32m\"1821\"\u001b[39m,\n",
       "  \u001b[32m\"1851\"\u001b[39m,\n",
       "  \u001b[32m\"1299\"\u001b[39m,\n",
       "  \u001b[32m\"1627\"\u001b[39m,\n",
       "  \u001b[32m\"1698\"\u001b[39m,\n",
       "  \u001b[32m\"1713\"\u001b[39m,\n",
       "  \u001b[32m\"1676\"\u001b[39m,\n",
       "  \u001b[32m\"1673\"\u001b[39m,\n",
       "  \u001b[32m\"1448\"\u001b[39m,\n",
       "  \u001b[32m\"1939\"\u001b[39m,\n",
       "  \u001b[32m\"1506\"\u001b[39m,\n",
       "  \u001b[32m\"1896\"\u001b[39m,\n",
       "  \u001b[32m\"1710\"\u001b[39m,\n",
       "...\r\n",
       "\u001b[36mnums\u001b[39m: \u001b[32mList\u001b[39m[\u001b[32mInt\u001b[39m] = \u001b[33mList\u001b[39m(\n",
       "  \u001b[32m1753\u001b[39m,\n",
       "  \u001b[32m1858\u001b[39m,\n",
       "  \u001b[32m1860\u001b[39m,\n",
       "  \u001b[32m1978\u001b[39m,\n",
       "  \u001b[32m1758\u001b[39m,\n",
       "  \u001b[32m1847\u001b[39m,\n",
       "  \u001b[32m2010\u001b[39m,\n",
       "  \u001b[32m1679\u001b[39m,\n",
       "  \u001b[32m1222\u001b[39m,\n",
       "  \u001b[32m1723\u001b[39m,\n",
       "  \u001b[32m1592\u001b[39m,\n",
       "  \u001b[32m1992\u001b[39m,\n",
       "  \u001b[32m1865\u001b[39m,\n",
       "  \u001b[32m1635\u001b[39m,\n",
       "  \u001b[32m1692\u001b[39m,\n",
       "  \u001b[32m1653\u001b[39m,\n",
       "  \u001b[32m1485\u001b[39m,\n",
       "  \u001b[32m848\u001b[39m,\n",
       "  \u001b[32m1301\u001b[39m,\n",
       "  \u001b[32m1818\u001b[39m,\n",
       "  \u001b[32m1872\u001b[39m,\n",
       "  \u001b[32m1883\u001b[39m,\n",
       "  \u001b[32m1464\u001b[39m,\n",
       "  \u001b[32m2002\u001b[39m,\n",
       "  \u001b[32m1736\u001b[39m,\n",
       "  \u001b[32m1821\u001b[39m,\n",
       "  \u001b[32m1851\u001b[39m,\n",
       "  \u001b[32m1299\u001b[39m,\n",
       "  \u001b[32m1627\u001b[39m,\n",
       "  \u001b[32m1698\u001b[39m,\n",
       "  \u001b[32m1713\u001b[39m,\n",
       "  \u001b[32m1676\u001b[39m,\n",
       "  \u001b[32m1673\u001b[39m,\n",
       "  \u001b[32m1448\u001b[39m,\n",
       "  \u001b[32m1939\u001b[39m,\n",
       "  \u001b[32m1506\u001b[39m,\n",
       "  \u001b[32m1896\u001b[39m,\n",
       "  \u001b[32m1710\u001b[39m,\n",
       "..."
      ]
     },
     "execution_count": 30,
     "metadata": {},
     "output_type": "execute_result"
    }
   ],
   "source": [
    "val filename = \"input.txt\"\n",
    "val stringList = Source.fromFile(filename).getLines.toList\n",
    "\n",
    "val nums: List[Int] = stringList.map(_.toInt)\n",
    "\n",
    "for(triple <- nums.combinations(3).toList){\n",
    "    if (triple(0) + triple(1) + triple(2) == 2020) {\n",
    "        println(\"result is \" + (triple(0) * triple(1) * triple(2)))\n",
    "    }\n",
    "}"
   ]
  }
 ],
 "metadata": {
  "kernelspec": {
   "display_name": "Scala",
   "language": "scala",
   "name": "scala"
  },
  "language_info": {
   "codemirror_mode": "text/x-scala",
   "file_extension": ".sc",
   "mimetype": "text/x-scala",
   "name": "scala",
   "nbconvert_exporter": "script",
   "version": "2.13.10"
  },
  "orig_nbformat": 4
 },
 "nbformat": 4,
 "nbformat_minor": 2
}
